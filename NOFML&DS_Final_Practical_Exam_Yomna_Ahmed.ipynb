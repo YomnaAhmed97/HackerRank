{
  "cells": [
    {
      "cell_type": "markdown",
      "metadata": {
        "id": "view-in-github",
        "colab_type": "text"
      },
      "source": [
        "<a href=\"https://colab.research.google.com/github/YomnaAhmed97/HackerRank/blob/master/NOFML%26DS_Final_Practical_Exam_Yomna_Ahmed.ipynb\" target=\"_parent\"><img src=\"https://colab.research.google.com/assets/colab-badge.svg\" alt=\"Open In Colab\"/></a>"
      ]
    },
    {
      "cell_type": "markdown",
      "id": "32b92576",
      "metadata": {
        "id": "32b92576"
      },
      "source": [
        "<b>In this practical exam you are required to do the following:</b><b>\n",
        "1. Implement the Adam (Batch Version) algorithm to train a multivariable linear regression model.\n",
        "2. Update your implementation to work for mini-batch.\n",
        "</b>\n",
        "\n",
        "### Please fulfil the following requirements:\n",
        "<br>\n",
        "<b>\n",
        "    \n",
        "    1. Each implementation must be in a sepearate function. i.e. two separate functions.\n",
        "    2. Check each function on the data in the attached file.\n",
        "    3. You must obtain r2-score > 0.9 using each functiion.\n",
        "    4. You must plot the following curves.\n",
        "        - Loss vs. iterations.\n",
        "        - Loss vs. each parameter (i.e. loss vs theta 0, loss vs. theta 1 .... etc.).\n",
        "    5. Choose hyper parameters to obtain the required accuracy.\n",
        "    6. The implementation must be vectoried and calculations must be performed as matrix vector multiplications.\n",
        "    7. Apply the stop conditions (gradient < 0.001 and cost convergence check).                                            \n",
        "</b>\n",
        "    \n",
        "<b><i>Note: You are allowed to use the code you developed during practical sessions. However, it should be your own code.</i></b>"
      ]
    },
    {
      "cell_type": "markdown",
      "id": "db57d373",
      "metadata": {
        "id": "db57d373"
      },
      "source": [
        "## Best of Luck..."
      ]
    },
    {
      "cell_type": "markdown",
      "source": [
        "# Connect to Drive to upload data"
      ],
      "metadata": {
        "id": "GOISGyrINqXM"
      },
      "id": "GOISGyrINqXM"
    },
    {
      "cell_type": "code",
      "source": [
        "from google.colab import drive\n",
        "drive.mount('/content/drive')"
      ],
      "metadata": {
        "id": "p_MtmxOCN0H_",
        "outputId": "01d92054-4746-490c-bb96-0008c41c8c0c",
        "colab": {
          "base_uri": "https://localhost:8080/"
        }
      },
      "id": "p_MtmxOCN0H_",
      "execution_count": 2,
      "outputs": [
        {
          "output_type": "stream",
          "name": "stdout",
          "text": [
            "Mounted at /content/drive\n"
          ]
        }
      ]
    },
    {
      "cell_type": "markdown",
      "source": [
        "# Upload libreries"
      ],
      "metadata": {
        "id": "T6iztzkwO3Lx"
      },
      "id": "T6iztzkwO3Lx"
    },
    {
      "cell_type": "code",
      "source": [
        "import numpy as np\n",
        "import matplotlib.pyplot as plt\n",
        "import math\n",
        "import pandas as pd\n",
        "from sklearn.metrics import r2_score\n",
        "\n",
        "%matplotlib inline"
      ],
      "metadata": {
        "id": "dIxeeMF1N2M5"
      },
      "id": "dIxeeMF1N2M5",
      "execution_count": 3,
      "outputs": []
    },
    {
      "cell_type": "markdown",
      "source": [
        "# Upload data"
      ],
      "metadata": {
        "id": "Xt7F0dK6PF-F"
      },
      "id": "Xt7F0dK6PF-F"
    },
    {
      "cell_type": "code",
      "source": [
        "df = pd.read_excel('/content/drive/MyDrive/dataexcel/MultipleLR.csv.xlsx')"
      ],
      "metadata": {
        "id": "sXm2KTXfPE0u"
      },
      "id": "sXm2KTXfPE0u",
      "execution_count": 4,
      "outputs": []
    },
    {
      "cell_type": "code",
      "source": [
        "df"
      ],
      "metadata": {
        "id": "xSONId3vPwZ9",
        "outputId": "bfd0aa12-6ec8-424b-fb12-e5fc37efac11",
        "colab": {
          "base_uri": "https://localhost:8080/",
          "height": 802
        }
      },
      "id": "xSONId3vPwZ9",
      "execution_count": 5,
      "outputs": [
        {
          "output_type": "execute_result",
          "data": {
            "text/plain": [
              "    73.0   80.0   75.0   152.0\n",
              "0    93.0   88.0   93.0  185.0\n",
              "1    89.0   91.0   90.0  180.0\n",
              "2    96.0   98.0  100.0  196.0\n",
              "3    73.0   66.0   70.0  142.0\n",
              "4    53.0   46.0   55.0  101.0\n",
              "5    69.0   74.0   77.0  149.0\n",
              "6    47.0   56.0   60.0  115.0\n",
              "7    87.0   79.0   90.0  175.0\n",
              "8    79.0   70.0   88.0  164.0\n",
              "9    69.0   70.0   73.0  141.0\n",
              "10   70.0   65.0   74.0  141.0\n",
              "11   93.0   95.0   91.0  184.0\n",
              "12   79.0   80.0   73.0  152.0\n",
              "13   70.0   73.0   78.0  148.0\n",
              "14   93.0   89.0   96.0  192.0\n",
              "15   78.0   75.0   68.0  147.0\n",
              "16   81.0   90.0   93.0  183.0\n",
              "17   88.0   92.0   86.0  177.0\n",
              "18   78.0   83.0   77.0  159.0\n",
              "19   82.0   86.0   90.0  177.0\n",
              "20   86.0   82.0   89.0  175.0\n",
              "21   78.0   83.0   85.0  175.0\n",
              "22   76.0   83.0   71.0  149.0\n",
              "23   96.0   93.0   95.0  192.0"
            ],
            "text/html": [
              "\n",
              "  <div id=\"df-2f9d2e25-fe63-4597-bca6-5c7167bde15b\">\n",
              "    <div class=\"colab-df-container\">\n",
              "      <div>\n",
              "<style scoped>\n",
              "    .dataframe tbody tr th:only-of-type {\n",
              "        vertical-align: middle;\n",
              "    }\n",
              "\n",
              "    .dataframe tbody tr th {\n",
              "        vertical-align: top;\n",
              "    }\n",
              "\n",
              "    .dataframe thead th {\n",
              "        text-align: right;\n",
              "    }\n",
              "</style>\n",
              "<table border=\"1\" class=\"dataframe\">\n",
              "  <thead>\n",
              "    <tr style=\"text-align: right;\">\n",
              "      <th></th>\n",
              "      <th>73.0</th>\n",
              "      <th>80.0</th>\n",
              "      <th>75.0</th>\n",
              "      <th>152.0</th>\n",
              "    </tr>\n",
              "  </thead>\n",
              "  <tbody>\n",
              "    <tr>\n",
              "      <th>0</th>\n",
              "      <td>93.0</td>\n",
              "      <td>88.0</td>\n",
              "      <td>93.0</td>\n",
              "      <td>185.0</td>\n",
              "    </tr>\n",
              "    <tr>\n",
              "      <th>1</th>\n",
              "      <td>89.0</td>\n",
              "      <td>91.0</td>\n",
              "      <td>90.0</td>\n",
              "      <td>180.0</td>\n",
              "    </tr>\n",
              "    <tr>\n",
              "      <th>2</th>\n",
              "      <td>96.0</td>\n",
              "      <td>98.0</td>\n",
              "      <td>100.0</td>\n",
              "      <td>196.0</td>\n",
              "    </tr>\n",
              "    <tr>\n",
              "      <th>3</th>\n",
              "      <td>73.0</td>\n",
              "      <td>66.0</td>\n",
              "      <td>70.0</td>\n",
              "      <td>142.0</td>\n",
              "    </tr>\n",
              "    <tr>\n",
              "      <th>4</th>\n",
              "      <td>53.0</td>\n",
              "      <td>46.0</td>\n",
              "      <td>55.0</td>\n",
              "      <td>101.0</td>\n",
              "    </tr>\n",
              "    <tr>\n",
              "      <th>5</th>\n",
              "      <td>69.0</td>\n",
              "      <td>74.0</td>\n",
              "      <td>77.0</td>\n",
              "      <td>149.0</td>\n",
              "    </tr>\n",
              "    <tr>\n",
              "      <th>6</th>\n",
              "      <td>47.0</td>\n",
              "      <td>56.0</td>\n",
              "      <td>60.0</td>\n",
              "      <td>115.0</td>\n",
              "    </tr>\n",
              "    <tr>\n",
              "      <th>7</th>\n",
              "      <td>87.0</td>\n",
              "      <td>79.0</td>\n",
              "      <td>90.0</td>\n",
              "      <td>175.0</td>\n",
              "    </tr>\n",
              "    <tr>\n",
              "      <th>8</th>\n",
              "      <td>79.0</td>\n",
              "      <td>70.0</td>\n",
              "      <td>88.0</td>\n",
              "      <td>164.0</td>\n",
              "    </tr>\n",
              "    <tr>\n",
              "      <th>9</th>\n",
              "      <td>69.0</td>\n",
              "      <td>70.0</td>\n",
              "      <td>73.0</td>\n",
              "      <td>141.0</td>\n",
              "    </tr>\n",
              "    <tr>\n",
              "      <th>10</th>\n",
              "      <td>70.0</td>\n",
              "      <td>65.0</td>\n",
              "      <td>74.0</td>\n",
              "      <td>141.0</td>\n",
              "    </tr>\n",
              "    <tr>\n",
              "      <th>11</th>\n",
              "      <td>93.0</td>\n",
              "      <td>95.0</td>\n",
              "      <td>91.0</td>\n",
              "      <td>184.0</td>\n",
              "    </tr>\n",
              "    <tr>\n",
              "      <th>12</th>\n",
              "      <td>79.0</td>\n",
              "      <td>80.0</td>\n",
              "      <td>73.0</td>\n",
              "      <td>152.0</td>\n",
              "    </tr>\n",
              "    <tr>\n",
              "      <th>13</th>\n",
              "      <td>70.0</td>\n",
              "      <td>73.0</td>\n",
              "      <td>78.0</td>\n",
              "      <td>148.0</td>\n",
              "    </tr>\n",
              "    <tr>\n",
              "      <th>14</th>\n",
              "      <td>93.0</td>\n",
              "      <td>89.0</td>\n",
              "      <td>96.0</td>\n",
              "      <td>192.0</td>\n",
              "    </tr>\n",
              "    <tr>\n",
              "      <th>15</th>\n",
              "      <td>78.0</td>\n",
              "      <td>75.0</td>\n",
              "      <td>68.0</td>\n",
              "      <td>147.0</td>\n",
              "    </tr>\n",
              "    <tr>\n",
              "      <th>16</th>\n",
              "      <td>81.0</td>\n",
              "      <td>90.0</td>\n",
              "      <td>93.0</td>\n",
              "      <td>183.0</td>\n",
              "    </tr>\n",
              "    <tr>\n",
              "      <th>17</th>\n",
              "      <td>88.0</td>\n",
              "      <td>92.0</td>\n",
              "      <td>86.0</td>\n",
              "      <td>177.0</td>\n",
              "    </tr>\n",
              "    <tr>\n",
              "      <th>18</th>\n",
              "      <td>78.0</td>\n",
              "      <td>83.0</td>\n",
              "      <td>77.0</td>\n",
              "      <td>159.0</td>\n",
              "    </tr>\n",
              "    <tr>\n",
              "      <th>19</th>\n",
              "      <td>82.0</td>\n",
              "      <td>86.0</td>\n",
              "      <td>90.0</td>\n",
              "      <td>177.0</td>\n",
              "    </tr>\n",
              "    <tr>\n",
              "      <th>20</th>\n",
              "      <td>86.0</td>\n",
              "      <td>82.0</td>\n",
              "      <td>89.0</td>\n",
              "      <td>175.0</td>\n",
              "    </tr>\n",
              "    <tr>\n",
              "      <th>21</th>\n",
              "      <td>78.0</td>\n",
              "      <td>83.0</td>\n",
              "      <td>85.0</td>\n",
              "      <td>175.0</td>\n",
              "    </tr>\n",
              "    <tr>\n",
              "      <th>22</th>\n",
              "      <td>76.0</td>\n",
              "      <td>83.0</td>\n",
              "      <td>71.0</td>\n",
              "      <td>149.0</td>\n",
              "    </tr>\n",
              "    <tr>\n",
              "      <th>23</th>\n",
              "      <td>96.0</td>\n",
              "      <td>93.0</td>\n",
              "      <td>95.0</td>\n",
              "      <td>192.0</td>\n",
              "    </tr>\n",
              "  </tbody>\n",
              "</table>\n",
              "</div>\n",
              "      <button class=\"colab-df-convert\" onclick=\"convertToInteractive('df-2f9d2e25-fe63-4597-bca6-5c7167bde15b')\"\n",
              "              title=\"Convert this dataframe to an interactive table.\"\n",
              "              style=\"display:none;\">\n",
              "        \n",
              "  <svg xmlns=\"http://www.w3.org/2000/svg\" height=\"24px\"viewBox=\"0 0 24 24\"\n",
              "       width=\"24px\">\n",
              "    <path d=\"M0 0h24v24H0V0z\" fill=\"none\"/>\n",
              "    <path d=\"M18.56 5.44l.94 2.06.94-2.06 2.06-.94-2.06-.94-.94-2.06-.94 2.06-2.06.94zm-11 1L8.5 8.5l.94-2.06 2.06-.94-2.06-.94L8.5 2.5l-.94 2.06-2.06.94zm10 10l.94 2.06.94-2.06 2.06-.94-2.06-.94-.94-2.06-.94 2.06-2.06.94z\"/><path d=\"M17.41 7.96l-1.37-1.37c-.4-.4-.92-.59-1.43-.59-.52 0-1.04.2-1.43.59L10.3 9.45l-7.72 7.72c-.78.78-.78 2.05 0 2.83L4 21.41c.39.39.9.59 1.41.59.51 0 1.02-.2 1.41-.59l7.78-7.78 2.81-2.81c.8-.78.8-2.07 0-2.86zM5.41 20L4 18.59l7.72-7.72 1.47 1.35L5.41 20z\"/>\n",
              "  </svg>\n",
              "      </button>\n",
              "      \n",
              "  <style>\n",
              "    .colab-df-container {\n",
              "      display:flex;\n",
              "      flex-wrap:wrap;\n",
              "      gap: 12px;\n",
              "    }\n",
              "\n",
              "    .colab-df-convert {\n",
              "      background-color: #E8F0FE;\n",
              "      border: none;\n",
              "      border-radius: 50%;\n",
              "      cursor: pointer;\n",
              "      display: none;\n",
              "      fill: #1967D2;\n",
              "      height: 32px;\n",
              "      padding: 0 0 0 0;\n",
              "      width: 32px;\n",
              "    }\n",
              "\n",
              "    .colab-df-convert:hover {\n",
              "      background-color: #E2EBFA;\n",
              "      box-shadow: 0px 1px 2px rgba(60, 64, 67, 0.3), 0px 1px 3px 1px rgba(60, 64, 67, 0.15);\n",
              "      fill: #174EA6;\n",
              "    }\n",
              "\n",
              "    [theme=dark] .colab-df-convert {\n",
              "      background-color: #3B4455;\n",
              "      fill: #D2E3FC;\n",
              "    }\n",
              "\n",
              "    [theme=dark] .colab-df-convert:hover {\n",
              "      background-color: #434B5C;\n",
              "      box-shadow: 0px 1px 3px 1px rgba(0, 0, 0, 0.15);\n",
              "      filter: drop-shadow(0px 1px 2px rgba(0, 0, 0, 0.3));\n",
              "      fill: #FFFFFF;\n",
              "    }\n",
              "  </style>\n",
              "\n",
              "      <script>\n",
              "        const buttonEl =\n",
              "          document.querySelector('#df-2f9d2e25-fe63-4597-bca6-5c7167bde15b button.colab-df-convert');\n",
              "        buttonEl.style.display =\n",
              "          google.colab.kernel.accessAllowed ? 'block' : 'none';\n",
              "\n",
              "        async function convertToInteractive(key) {\n",
              "          const element = document.querySelector('#df-2f9d2e25-fe63-4597-bca6-5c7167bde15b');\n",
              "          const dataTable =\n",
              "            await google.colab.kernel.invokeFunction('convertToInteractive',\n",
              "                                                     [key], {});\n",
              "          if (!dataTable) return;\n",
              "\n",
              "          const docLinkHtml = 'Like what you see? Visit the ' +\n",
              "            '<a target=\"_blank\" href=https://colab.research.google.com/notebooks/data_table.ipynb>data table notebook</a>'\n",
              "            + ' to learn more about interactive tables.';\n",
              "          element.innerHTML = '';\n",
              "          dataTable['output_type'] = 'display_data';\n",
              "          await google.colab.output.renderOutput(dataTable, element);\n",
              "          const docLink = document.createElement('div');\n",
              "          docLink.innerHTML = docLinkHtml;\n",
              "          element.appendChild(docLink);\n",
              "        }\n",
              "      </script>\n",
              "    </div>\n",
              "  </div>\n",
              "  "
            ]
          },
          "metadata": {},
          "execution_count": 5
        }
      ]
    },
    {
      "cell_type": "markdown",
      "source": [
        "Mini-Batch Gradient descent"
      ],
      "metadata": {
        "id": "TYsIxM6JR_iM"
      },
      "id": "TYsIxM6JR_iM"
    },
    {
      "cell_type": "code",
      "source": [
        "def mini_batch(X, Y, mini_batch_size = 100, seed = 0):\n",
        "   \n",
        "    \n",
        "    np.random.seed(seed)            \n",
        "    m = X.shape[1]                 \n",
        "    mini_batches = []\n",
        "        \n",
        "    permutation = df\n",
        "    shuffled_X = X[:, permutation]\n",
        "    shuffled_Y = Y[:, permutation].reshape((1,m))\n",
        "\n",
        "   \n",
        "    num_complete_minibatches = math.floor(m/mini_batch_size) \n",
        "    for k in range(0, num_complete_minibatches):\n",
        "        \n",
        "        mini_batch_X = shuffled_X[:, k*mini_batch_size : (k+1)*mini_batch_size]\n",
        "        mini_batch_Y = shuffled_Y[:, k*mini_batch_size : (k+1)*mini_batch_size]\n",
        "        mini_batch = (mini_batch_X, mini_batch_Y)\n",
        "        mini_batches.append(mini_batch)\n",
        "    \n",
        "    if m % mini_batch_size != 0:\n",
        "  \n",
        "        mini_batch_X = shuffled_X[:, num_complete_minibatches*mini_batch_size : ]\n",
        "        mini_batch_Y = shuffled_Y[:, num_complete_minibatches*mini_batch_size : ]\n",
        "        \n",
        "        mini_batch = (mini_batch_X, mini_batch_Y)\n",
        "        mini_batches.append(mini_batch)\n",
        "    \n",
        "    return mini_batches"
      ],
      "metadata": {
        "id": "djY4xqG0PxkC"
      },
      "id": "djY4xqG0PxkC",
      "execution_count": 6,
      "outputs": []
    },
    {
      "cell_type": "markdown",
      "source": [
        " Adam"
      ],
      "metadata": {
        "id": "Dwgm_q6cTXLY"
      },
      "id": "Dwgm_q6cTXLY"
    },
    {
      "cell_type": "code",
      "source": [
        "def initialize_adam(parameters) :\n",
        " \n",
        "    \n",
        "    L = len(parameters) // 2 \n",
        "    v = {}\n",
        "    s = {}\n",
        "    \n",
        "    \n",
        "    for l in range(L):\n",
        "   \n",
        "        v[\"dW\" + str(l+1)] = np.zeros(parameters['W' + str(l+1)].shape)\n",
        "        v[\"db\" + str(l+1)] = np.zeros(parameters['b' + str(l+1)].shape)\n",
        "        s[\"dW\" + str(l+1)] = np.zeros(parameters['W' + str(l+1)].shape)\n",
        "        s[\"db\" + str(l+1)] = np.zeros(parameters['b' + str(l+1)].shape)\n",
        "    \n",
        "    return v, s"
      ],
      "metadata": {
        "id": "C7ihzBp_TWga"
      },
      "id": "C7ihzBp_TWga",
      "execution_count": 7,
      "outputs": []
    },
    {
      "cell_type": "code",
      "source": [
        "\n",
        "def update_parameters_with_adam(parameters, grads, v, s, t, learning_rate = 0.001,\n",
        "                                beta1 = 0.9, beta2 = 0.999,  epsilon = 1e-8):\n",
        " \n",
        "    \n",
        "    L = len(parameters) // 2                \n",
        "    v_corrected = {}                       \n",
        "    s_corrected = {}                         \n",
        "    \n",
        "    for l in range(L):\n",
        "\n",
        "        v[\"dW\" + str(l+1)] = beta1 * v['dW' + str(l+1)] + (1 - beta1) * grads['dW' + str(l+1)]\n",
        "        v[\"db\" + str(l+1)] = beta1 * v['db' + str(l+1)] + (1 - beta1) * grads['db' + str(l+1)]\n",
        "\n",
        "        v_corrected[\"dW\" + str(l+1)] = v[\"dW\" + str(l+1)] / float(1 - beta1**t)\n",
        "        v_corrected[\"db\" + str(l+1)] = v[\"db\" + str(l+1)] / float(1 - beta1**t)\n",
        "\n",
        "        s[\"dW\" + str(l+1)] = beta2 * s['dW' + str(l+1)] + (1 - beta2) * (grads['dW' + str(l+1)]**2)\n",
        "        s[\"db\" + str(l+1)] = beta2 * s['db' + str(l+1)] + (1 - beta2) * (grads['db' + str(l+1)]**2)\n",
        "\n",
        "        s_corrected[\"dW\" + str(l+1)] = s[\"dW\" + str(l+1)] / float(1 - beta2**t)\n",
        "        s_corrected[\"db\" + str(l+1)] = s[\"db\" + str(l+1)] / float(1 - beta2**t)\n",
        "\n",
        "\n",
        "\n",
        "        parameters[\"W\" + str(l+1)] = parameters[\"W\" + str(l+1)] - learning_rate * v_corrected[\"dW\" + str(l+1)] / (np.sqrt(s_corrected[\"dW\" + str(l+1)]) + epsilon)\n",
        "        parameters[\"b\" + str(l+1)] = parameters[\"b\" + str(l+1)] - learning_rate * v_corrected[\"db\" + str(l+1)] / (np.sqrt(s_corrected[\"db\" + str(l+1)]) + epsilon)\n",
        "      \n",
        "\n",
        "    return parameters, v, s"
      ],
      "metadata": {
        "id": "edC-kkRKSlZK"
      },
      "id": "edC-kkRKSlZK",
      "execution_count": 8,
      "outputs": []
    },
    {
      "cell_type": "markdown",
      "source": [
        "Build model with diffrent optimizers"
      ],
      "metadata": {
        "id": "cotMEh_cU_ga"
      },
      "id": "cotMEh_cU_ga"
    },
    {
      "cell_type": "code",
      "source": [
        "def model(X, Y, layers_dims, optimizer, learning_rate = 0.001, mini_batch_size = 100, \n",
        "          beta1 = 0.9, beta2 = 0.999,  epsilon = 1e-8, num_epochs = 10000, print_cost = True):\n",
        " \n",
        "\n",
        "    L = len(layers_dims)            \n",
        "    costs = []                       \n",
        "    t = 0                           \n",
        "    seed = 10                       \n",
        "    parameters = (layers_dims)\n",
        "\n",
        "    if optimizer == \"adam\":\n",
        "        v, s = initialize_adam(parameters)\n",
        "    \n",
        "    \n",
        "    for i in range(num_epochs):\n",
        "        \n",
        "        seed = seed + 1\n",
        "        minibatches = mini_batch(X, Y, mini_batch_size, seed)\n",
        "\n",
        "        for minibatch in minibatches:\n",
        "\n",
        "            \n",
        "            (minibatch_X, minibatch_Y) = minibatch\n",
        "\n",
        "            a3, caches = (minibatch_X, parameters)\n",
        "\n",
        "            cost = (a3, minibatch_Y)\n",
        "\n",
        "          \n",
        "            grads = (minibatch_X, minibatch_Y, caches)\n",
        "\n",
        "         \n",
        "            if optimizer == \"adam\":\n",
        "                t = t + 1 \n",
        "                parameters, v, s = update_parameters_with_adam(parameters, grads, v, s,\n",
        "                                                               t, learning_rate, beta1, beta2,  epsilon)\n",
        "        if print_cost and i % 1000 == 0:\n",
        "            print (\"Cost after epoch %i: %f\" %(i, cost))\n",
        "        if print_cost and i % 100 == 0:\n",
        "            costs.append(cost)\n",
        "                \n",
        "  \n",
        "    plt.plot(costs)\n",
        "    plt.ylabel('cost')\n",
        "    plt.xlabel('epochs (per 100)')\n",
        "    plt.title(\"Learning rate = \" + str(learning_rate))\n",
        "    plt.show()\n",
        "\n",
        "    return parameters"
      ],
      "metadata": {
        "id": "HWWaRygEUt9H"
      },
      "id": "HWWaRygEUt9H",
      "execution_count": 9,
      "outputs": []
    },
    {
      "cell_type": "code",
      "source": [
        ""
      ],
      "metadata": {
        "id": "Y4wz11ahV7a7"
      },
      "id": "Y4wz11ahV7a7",
      "execution_count": null,
      "outputs": []
    }
  ],
  "metadata": {
    "kernelspec": {
      "display_name": "Python 3",
      "language": "python",
      "name": "python3"
    },
    "language_info": {
      "codemirror_mode": {
        "name": "ipython",
        "version": 3
      },
      "file_extension": ".py",
      "mimetype": "text/x-python",
      "name": "python",
      "nbconvert_exporter": "python",
      "pygments_lexer": "ipython3",
      "version": "3.8.8"
    },
    "colab": {
      "name": " NOFML&DS Final Practical Exam Yomna Ahmed.ipynb",
      "provenance": [],
      "include_colab_link": true
    }
  },
  "nbformat": 4,
  "nbformat_minor": 5
}